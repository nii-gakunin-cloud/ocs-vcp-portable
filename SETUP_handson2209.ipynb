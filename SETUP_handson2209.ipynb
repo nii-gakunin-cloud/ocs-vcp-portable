{
 "cells": [
  {
   "cell_type": "markdown",
   "metadata": {
    "lc_cell_meme": {
     "current": "d1c974a8-7057-11e7-bb01-06f0b50c8aa0-7-3f28-ed83-1453-4915-a022-8ec2-c911",
     "next": "d1c97656-7057-11e7-bb01-06f0b50c8aa0-7-b0e8-5dc9-0580-4be8-554a-d688-496e",
     "previous": null
    }
   },
   "source": [
    "# VCP SDK のセットアップ\n",
    "\n",
    "この Notebook では VCP SDK を利用するための初期設定と、アプリケーション・テンプレート等のインストールを行います。"
   ]
  },
  {
   "cell_type": "markdown",
   "metadata": {
    "lc_cell_meme": {
     "current": "d1c97656-7057-11e7-bb01-06f0b50c8aa0-7-b0e8-5dc9-0580-4be8-554a-d688-496e",
     "next": "e1e0e9a4-7136-11e7-bb01-06f0b50c8aa0-7-3da5-f23b-7a1d-ab6e-9bf6-07be-6062",
     "previous": "d1c974a8-7057-11e7-bb01-06f0b50c8aa0-7-3f28-ed83-1453-4915-a022-8ec2-c911"
    }
   },
   "source": [
    "## 設定ファイルの準備\n",
    "\n",
    "VCP SDK を利用する上で必要となる設定ファイルを作成します。"
   ]
  },
  {
   "cell_type": "markdown",
   "metadata": {
    "lc_cell_meme": {
     "current": "e1e0e9a4-7136-11e7-bb01-06f0b50c8aa0-7-3da5-f23b-7a1d-ab6e-9bf6-07be-6062",
     "next": "e1e0ec4c-7136-11e7-bb01-06f0b50c8aa0-7-3a94-96ca-de85-bbb4-713b-a353-9f3f",
     "previous": "d1c97656-7057-11e7-bb01-06f0b50c8aa0-7-b0e8-5dc9-0580-4be8-554a-d688-496e"
    }
   },
   "source": [
    "### `vcp_config.yml` ファイルの編集"
   ]
  },
  {
   "cell_type": "markdown",
   "metadata": {
    "lc_cell_meme": {
     "current": "e1e0ec4c-7136-11e7-bb01-06f0b50c8aa0-7-3a94-96ca-de85-bbb4-713b-a353-9f3f",
     "next": "bc13177c-22ae-11e8-bf0d-0242ac110002-7-1894-0ec6-0cc5-c8fa-8abf-c253-dd99",
     "previous": "e1e0e9a4-7136-11e7-bb01-06f0b50c8aa0-7-3da5-f23b-7a1d-ab6e-9bf6-07be-6062"
    }
   },
   "source": [
    "以下のセルを実行すると、VCP SDK 設定ファイル `vcp_config.yml` を編集するためのリンクボタンが表示されます。\n",
    "\n",
    "```\n",
    "vcc:\n",
    "    host: VCコントローラのIPアドレス (VCPポータブル版を同一ホストに構築した場合は localhost を指定)\n",
    "    name: VCコントローラの名前 (VCコントローラ上のログ出力に使用)\n",
    "```"
   ]
  },
  {
   "cell_type": "code",
   "execution_count": null,
   "metadata": {
    "lc_cell_meme": {
     "current": "bc13177c-22ae-11e8-bf0d-0242ac110002-7-1894-0ec6-0cc5-c8fa-8abf-c253-dd99",
     "next": "bd0bead0-8856-11eb-9b27-0242ac110005-6-9466-1875-34c8-8bf7-b7e5-b765",
     "previous": "e1e0ec4c-7136-11e7-bb01-06f0b50c8aa0-7-3a94-96ca-de85-bbb4-713b-a353-9f3f"
    },
    "lc_wrapper": {}
   },
   "outputs": [],
   "source": [
    "import os\n",
    "\n",
    "config_dir = \"{}/vcpsdk/vcpsdk/config\".format(os.environ.get(\"HOME\"))\n",
    "!mkdir -p vcp_config\n",
    "!cp $config_dir/vcp_flavor.yml vcp_config/\n",
    "!cp $config_dir/sample-vault-vcp_config.yml vcp_config/vcp_config.yml\n",
    "\n",
    "curdir = os.getcwd().replace('/notebooks/notebook/', '')\n",
    "config_url = \"/{}/edit/vcp_config/vcp_config.yml\".format(os.environ['SUBDIR'])\n",
    "from IPython.core.display import HTML\n",
    "\n",
    "style= \"text-decoration: none;\\\n",
    "padding: 4px 8px;border: solid 2px #ddf; color: #fff;\\\n",
    "font-size: 20px;\\\n",
    "font-weight: bold;\\\n",
    "background-color: rgb(100, 149, 237);\"\n",
    "HTML('<a style=\"{}\" target=\"new\" href=\"{}\">vcp_config.ymlを編集</a>'.\n",
    "     format(style, config_url))"
   ]
  },
  {
   "cell_type": "markdown",
   "metadata": {
    "lc_cell_meme": {
     "current": "bd0bead0-8856-11eb-9b27-0242ac110005-6-9466-1875-34c8-8bf7-b7e5-b765",
     "next": "bd0beb52-8856-11eb-9b27-0242ac110005-6-ddcb-ba3a-2642-8a99-f52f-35b2",
     "previous": "bc13177c-22ae-11e8-bf0d-0242ac110002-7-1894-0ec6-0cc5-c8fa-8abf-c253-dd99"
    }
   },
   "source": [
    "# ハンズオン・コンテンツの準備\n",
    "\n",
    "OCS ハンズオンコンテンツのディレクトリとファイルを Jupyter Notebook 環境に展開します。"
   ]
  },
  {
   "cell_type": "code",
   "execution_count": null,
   "metadata": {
    "lc_cell_meme": {
     "current": "bd0beb52-8856-11eb-9b27-0242ac110005-6-ddcb-ba3a-2642-8a99-f52f-35b2",
     "next": "88895c78-8637-11eb-9b27-0242ac110005-7-c059-edb9-bb3d-c492-96fb-3838-2399",
     "previous": "bd0bead0-8856-11eb-9b27-0242ac110005-6-9466-1875-34c8-8bf7-b7e5-b765"
    },
    "lc_wrapper": {}
   },
   "outputs": [],
   "source": [
    "!git clone https://github.com/nii-gakunin-cloud/handson.git"
   ]
  },
  {
   "cell_type": "markdown",
   "metadata": {
    "lc_cell_meme": {
     "current": "88895c78-8637-11eb-9b27-0242ac110005-7-c059-edb9-bb3d-c492-96fb-3838-2399",
     "next": "a69c328e-8638-11eb-9b27-0242ac110005-6-a53d-f70b-e63b-121b-c05b-7450",
     "previous": "bd0beb52-8856-11eb-9b27-0242ac110005-6-ddcb-ba3a-2642-8a99-f52f-35b2"
    }
   },
   "source": [
    "# VCP SDK マニュアルの準備\n",
    "\n",
    "VCP SDK マニュアル最新版のディレクトリとファイルを Jupyter Notebook 環境に展開します。"
   ]
  },
  {
   "cell_type": "code",
   "execution_count": null,
   "metadata": {
    "lc_cell_meme": {
     "current": "a69c328e-8638-11eb-9b27-0242ac110005-6-a53d-f70b-e63b-121b-c05b-7450",
     "next": "a69c33a6-8638-11eb-9b27-0242ac110005-7-0080-6b39-6707-b2ac-f794-d829-7d15",
     "previous": "88895c78-8637-11eb-9b27-0242ac110005-7-c059-edb9-bb3d-c492-96fb-3838-2399"
    },
    "lc_wrapper": {}
   },
   "outputs": [],
   "source": [
    "!cp -r $HOME/vcp/vcpsdk/doc ."
   ]
  },
  {
   "cell_type": "markdown",
   "metadata": {
    "lc_cell_meme": {
     "current": "a69c33a6-8638-11eb-9b27-0242ac110005-7-0080-6b39-6707-b2ac-f794-d829-7d15",
     "next": "bd0be936-8856-11eb-9b27-0242ac110005-6-5cfc-eea0-efcd-866c-6092-b0b2",
     "previous": "a69c328e-8638-11eb-9b27-0242ac110005-6-a53d-f70b-e63b-121b-c05b-7450"
    }
   },
   "source": [
    "# アプリケーション・テンプレートの準備\n",
    "\n",
    "OCS アプリケーション・テンプレートのディレクトリとファイルを Jupyter Notebook 環境に展開します。"
   ]
  },
  {
   "cell_type": "code",
   "execution_count": null,
   "metadata": {
    "lc_cell_meme": {
     "current": "bd0be936-8856-11eb-9b27-0242ac110005-6-5cfc-eea0-efcd-866c-6092-b0b2",
     "next": "bd0bebc0-8856-11eb-9b27-0242ac110005-7-7751-4283-fc29-c61d-c6fb-0d9f-67c2",
     "previous": "a69c33a6-8638-11eb-9b27-0242ac110005-7-0080-6b39-6707-b2ac-f794-d829-7d15"
    },
    "lc_wrapper": {},
    "scrolled": true
   },
   "outputs": [],
   "source": [
    "!git clone https://github.com/nii-gakunin-cloud/ocs-templates.git templates"
   ]
  },
  {
   "cell_type": "markdown",
   "metadata": {
    "lc_cell_meme": {
     "current": "bd0bebc0-8856-11eb-9b27-0242ac110005-7-7751-4283-fc29-c61d-c6fb-0d9f-67c2",
     "next": "4d1d6a2c-8857-11eb-9b27-0242ac110005-6-5f74-9833-4a0a-21ec-d064-21b3",
     "previous": "bd0be936-8856-11eb-9b27-0242ac110005-6-5cfc-eea0-efcd-866c-6092-b0b2"
    }
   },
   "source": [
    "# VCP SDK テストセットの準備\n",
    "\n",
    "VCP SDK のテストセット、サンプル実装のディレクトリとファイルを Jupyter Notebook 環境に展開します。"
   ]
  },
  {
   "cell_type": "code",
   "execution_count": null,
   "metadata": {
    "lc_cell_meme": {
     "current": "4d1d6a2c-8857-11eb-9b27-0242ac110005-6-5f74-9833-4a0a-21ec-d064-21b3",
     "next": null,
     "previous": "bd0bebc0-8856-11eb-9b27-0242ac110005-7-7751-4283-fc29-c61d-c6fb-0d9f-67c2"
    },
    "lc_wrapper": {}
   },
   "outputs": [],
   "source": [
    "!cp -r $HOME/vcp/vcpsdk/sdk_test $HOME/vcp/vcpsdk/sample ."
   ]
  }
 ],
 "metadata": {
  "kernelspec": {
   "display_name": "Python 3",
   "language": "python",
   "name": "python3"
  },
  "language_info": {
   "file_extension": ".py",
   "mimetype": "text/x-python",
   "name": "python",
   "nbconvert_exporter": "python",
   "pygments_lexer": "ipython3",
   "version": "3.8.6"
  },
  "toc": {
   "base_numbering": 1,
   "nav_menu": {
    "height": "156px",
    "width": "252px"
   },
   "number_sections": true,
   "sideBar": true,
   "skip_h1_title": false,
   "title_cell": "Table of Contents",
   "title_sidebar": "Contents",
   "toc_cell": false,
   "toc_position": {
    "height": "calc(100% - 180px)",
    "left": "10px",
    "top": "150px",
    "width": "235.594px"
   },
   "toc_section_display": "block",
   "toc_window_display": true
  }
 },
 "nbformat": 4,
 "nbformat_minor": 2
}
