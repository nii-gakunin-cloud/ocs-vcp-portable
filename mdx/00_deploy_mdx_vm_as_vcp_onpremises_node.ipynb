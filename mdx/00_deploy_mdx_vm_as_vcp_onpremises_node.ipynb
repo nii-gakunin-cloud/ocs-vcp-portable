{
 "cells": [
  {
   "cell_type": "markdown",
   "metadata": {
    "lc_cell_meme": {
     "current": "14d34282-ac0e-11ec-a2a8-005056b02367-4-c993-a671-de75-43e3",
     "next": "06937386-ac18-11ec-a2a8-005056b02367-4-8b51-1f1e-7a16-7ec4",
     "previous": null
    }
   },
   "source": [
    "# mdx VMのデプロイとVCP既存サーバ (SSH) モード セットアップ\n",
    "\n",
    "この Notebook では、mdx VM のデプロイと、その mdx VM をVCP既存サーバ(SSH) モードで利用できるようにするまでのセットアップを行う。"
   ]
  },
  {
   "cell_type": "markdown",
   "metadata": {
    "lc_cell_meme": {
     "current": "06937386-ac18-11ec-a2a8-005056b02367-4-8b51-1f1e-7a16-7ec4",
     "next": "32e9d710-adc9-11ec-9d19-005056b02673-3-2b18-16c9-d9d2",
     "previous": "14d34282-ac0e-11ec-a2a8-005056b02367-4-c993-a671-de75-43e3"
    }
   },
   "source": [
    "## 前提条件\n",
    "\n",
    "1. VCコントローラが動作していること\n",
    "    * このNotebookを実行しているJupyterNotebookサーバと同一ホスト上で稼働するPortable版VCコントローラの利用を想定する。\n",
    "2. vcp_config.yml においてVCコントローラの設定が完了していること"
   ]
  },
  {
   "cell_type": "markdown",
   "metadata": {
    "lc_cell_meme": {
     "current": "32e9d710-adc9-11ec-9d19-005056b02673-3-2b18-16c9-d9d2",
     "next": "32e9dc38-adc9-11ec-9d19-005056b02673-3-11f2-7329-6034",
     "previous": "06937386-ac18-11ec-a2a8-005056b02367-4-8b51-1f1e-7a16-7ec4"
    }
   },
   "source": [
    "## 準備\n",
    "\n",
    "1. この Notebook を実行する Jupyter Notebook サーバに `expect` パッケージをインストール\n",
    "2. mdx のローカル認証により REST API を利用するためのパラメータ設定\n",
    "3. mdx VM にSSHログインするためのキーペア作成\n",
    "4. mdx の REST API エンドポイントに接続できることの確認"
   ]
  },
  {
   "cell_type": "markdown",
   "metadata": {
    "lc_cell_meme": {
     "current": "32e9dc38-adc9-11ec-9d19-005056b02673-3-11f2-7329-6034",
     "next": "32e9ddfa-adc9-11ec-9d19-005056b02673-3-bf42-5fa1-d5c6",
     "previous": "32e9d710-adc9-11ec-9d19-005056b02673-3-2b18-16c9-d9d2"
    }
   },
   "source": [
    "### expect のインストール確認"
   ]
  },
  {
   "cell_type": "code",
   "execution_count": null,
   "metadata": {
    "lc_cell_meme": {
     "current": "32e9ddfa-adc9-11ec-9d19-005056b02673-3-bf42-5fa1-d5c6",
     "next": "7a70b4f0-adc9-11ec-9d19-005056b02673-3-9f7f-4469-b61a",
     "previous": "32e9dc38-adc9-11ec-9d19-005056b02673-3-11f2-7329-6034"
    },
    "lc_wrapper": {}
   },
   "outputs": [],
   "source": [
    "!expect -v"
   ]
  },
  {
   "cell_type": "code",
   "execution_count": null,
   "metadata": {
    "lc_cell_meme": {
     "current": "7a70b4f0-adc9-11ec-9d19-005056b02673-3-9f7f-4469-b61a",
     "next": "c1f75fb8-adc9-11ec-9d19-005056b02673-3-c117-9bd5-8e37",
     "previous": "32e9ddfa-adc9-11ec-9d19-005056b02673-3-bf42-5fa1-d5c6"
    },
    "lc_wrapper": {}
   },
   "outputs": [],
   "source": [
    "# 未インストールの場合\n",
    "!sudo apt update && apt install -y expect"
   ]
  },
  {
   "cell_type": "markdown",
   "metadata": {
    "lc_cell_meme": {
     "current": "c1f75fb8-adc9-11ec-9d19-005056b02673-3-c117-9bd5-8e37",
     "next": "c1f76346-adc9-11ec-9d19-005056b02673-3-fca5-8be0-de31",
     "previous": "7a70b4f0-adc9-11ec-9d19-005056b02673-3-9f7f-4469-b61a"
    }
   },
   "source": [
    "### mdx REST API パラメータ設定\n",
    "\n",
    "- mdx REST API 認証トークンは、mdxユーザポータルの「トークン発行」により取得する。\n",
    "  * 「トークン発行」は、ユーザポータル画面右上にあるユーザ名をクリックすると表示される。"
   ]
  },
  {
   "cell_type": "code",
   "execution_count": null,
   "metadata": {
    "lc_cell_meme": {
     "current": "c1f76346-adc9-11ec-9d19-005056b02673-3-fca5-8be0-de31",
     "next": "c1f764ea-adc9-11ec-9d19-005056b02673-3-bbee-b3cc-9e2b",
     "previous": "c1f75fb8-adc9-11ec-9d19-005056b02673-3-c117-9bd5-8e37"
    },
    "lc_wrapper": {}
   },
   "outputs": [],
   "source": [
    "# mdx REST API 認証トークン設定\n",
    "from getpass import getpass\n",
    "mdx_token = getpass(\"mdx API token\")"
   ]
  },
  {
   "cell_type": "code",
   "execution_count": null,
   "metadata": {
    "lc_cell_meme": {
     "current": "c1f764ea-adc9-11ec-9d19-005056b02673-3-bbee-b3cc-9e2b",
     "next": "0a10b70e-adca-11ec-9d19-005056b02673-3-549c-8614-2a36",
     "previous": "c1f76346-adc9-11ec-9d19-005056b02673-3-fca5-8be0-de31"
    },
    "lc_wrapper": {}
   },
   "outputs": [],
   "source": [
    "# mdx VMに設定する初期パスワード\n",
    "mdx_user_password = \"Pyn5jzxM\"\n",
    "\n",
    "# mdx VM名　(project内で一意になるようにする)\n",
    "vm_name = \"cwh-node01\"\n",
    "\n",
    "# Notebookからmdx VMにsshログインするssh鍵ペア\n",
    "ssh_private_key_path = \"~/.ssh/id_rsa\"\n",
    "ssh_public_key_path = \"~/.ssh/id_rsa.pub\"\n",
    "\n",
    "# mdx VMのログインユーザ名\n",
    "# mdxカタログ情報の \"login_username\" から取得するか、またはユーザポータルの「仮想マシンテンプレート」で確認できる。\n",
    "ssh_user_name = \"mdxuser\""
   ]
  },
  {
   "cell_type": "markdown",
   "metadata": {
    "lc_cell_meme": {
     "current": "0a10b70e-adca-11ec-9d19-005056b02673-3-549c-8614-2a36",
     "next": "c1f76652-adc9-11ec-9d19-005056b02673-3-a957-0f31-3363",
     "previous": "c1f764ea-adc9-11ec-9d19-005056b02673-3-bbee-b3cc-9e2b"
    }
   },
   "source": [
    "### mdx VM への SSH ログイン用キーペア作成"
   ]
  },
  {
   "cell_type": "code",
   "execution_count": null,
   "metadata": {
    "lc_cell_meme": {
     "current": "c1f76652-adc9-11ec-9d19-005056b02673-3-a957-0f31-3363",
     "next": "0a10ba6a-adca-11ec-9d19-005056b02673-3-fa5b-298c-3c58",
     "previous": "0a10b70e-adca-11ec-9d19-005056b02673-3-549c-8614-2a36"
    },
    "lc_wrapper": {}
   },
   "outputs": [],
   "source": [
    "!test -f ~/.ssh/id_rsa || ssh-keygen -t rsa -f ~/.ssh/id_rsa -N \"\"\n",
    "!ls -l ~/.ssh"
   ]
  },
  {
   "cell_type": "markdown",
   "metadata": {
    "lc_cell_meme": {
     "current": "0a10ba6a-adca-11ec-9d19-005056b02673-3-fa5b-298c-3c58",
     "next": "0a10bc18-adca-11ec-9d19-005056b02673-3-7034-a79d-1323",
     "previous": "c1f76652-adc9-11ec-9d19-005056b02673-3-a957-0f31-3363"
    }
   },
   "source": [
    "### mdx REST API エンドポイント接続確認"
   ]
  },
  {
   "cell_type": "code",
   "execution_count": null,
   "metadata": {
    "lc_cell_meme": {
     "current": "0a10bc18-adca-11ec-9d19-005056b02673-3-7034-a79d-1323",
     "next": "0a10bd80-adca-11ec-9d19-005056b02673-3-1434-2299-75aa",
     "previous": "0a10ba6a-adca-11ec-9d19-005056b02673-3-fa5b-298c-3c58"
    },
    "lc_wrapper": {}
   },
   "outputs": [],
   "source": [
    "# デフォルトのresolverがIPv6のアドレスを返すが、接続できないときに以下のコードを実行する\n",
    "def use_ipv4_only():\n",
    "    import socket\n",
    "    old_getaddrinfo = socket.getaddrinfo\n",
    "    def new_getaddrinfo(*args, **kwargs):\n",
    "        responses = old_getaddrinfo(*args, **kwargs)\n",
    "        return [response\n",
    "                for response in responses\n",
    "                if response[0] == socket.AF_INET]\n",
    "    socket.getaddrinfo = new_getaddrinfo\n",
    "\n",
    "use_ipv4_only()"
   ]
  },
  {
   "cell_type": "code",
   "execution_count": null,
   "metadata": {
    "lc_cell_meme": {
     "current": "0a10bd80-adca-11ec-9d19-005056b02673-3-1434-2299-75aa",
     "next": "0a10bede-adca-11ec-9d19-005056b02673-3-2a44-5331-e3ac",
     "previous": "0a10bc18-adca-11ec-9d19-005056b02673-3-7034-a79d-1323"
    },
    "lc_wrapper": {}
   },
   "outputs": [],
   "source": [
    "!curl https://oprpl.mdx.jp -w '%{http_code}\\n' -o /dev/null -s"
   ]
  },
  {
   "cell_type": "markdown",
   "metadata": {
    "lc_cell_meme": {
     "current": "0a10bede-adca-11ec-9d19-005056b02673-3-2a44-5331-e3ac",
     "next": "52021760-adca-11ec-9d19-005056b02673-3-7907-3cc5-c34e",
     "previous": "0a10bd80-adca-11ec-9d19-005056b02673-3-1434-2299-75aa"
    }
   },
   "source": [
    "## mdx VM 作成\n",
    "\n",
    "1. VCP SDK mdx用プラグインモジュールの読み込み\n",
    "2. mdx VM作成に必要なパラメータ確認\n",
    "3. mdx VMデプロイ"
   ]
  },
  {
   "cell_type": "markdown",
   "metadata": {
    "lc_cell_meme": {
     "current": "52021760-adca-11ec-9d19-005056b02673-3-7907-3cc5-c34e",
     "next": "52021940-adca-11ec-9d19-005056b02673-3-887d-d4a0-3298",
     "previous": "0a10bede-adca-11ec-9d19-005056b02673-3-2a44-5331-e3ac"
    }
   },
   "source": [
    "### VCP SDK mdx用プラグインモジュールの読み込み\n",
    "\n",
    "- 以下の .py ファイルが必要。\n",
    "  * `/home/jovyan/vcpsdk/vcpsdk/plugins/mdx_{ext,lib}.py`\n",
    "  * `/home/jovyan/vcpsdk/common/logsetting.py`"
   ]
  },
  {
   "cell_type": "code",
   "execution_count": null,
   "metadata": {
    "lc_cell_meme": {
     "current": "52021940-adca-11ec-9d19-005056b02673-3-887d-d4a0-3298",
     "next": "52021b52-adca-11ec-9d19-005056b02673-3-863b-18db-4ee9",
     "previous": "52021760-adca-11ec-9d19-005056b02673-3-7907-3cc5-c34e"
    },
    "lc_wrapper": {}
   },
   "outputs": [],
   "source": [
    "from common import logsetting\n",
    "from vcpsdk.plugins.mdx_ext import MdxResourceExt\n",
    "mdx = MdxResourceExt(mdx_token)"
   ]
  },
  {
   "cell_type": "markdown",
   "metadata": {
    "lc_cell_meme": {
     "current": "52021b52-adca-11ec-9d19-005056b02673-3-863b-18db-4ee9",
     "next": "52021bca-adca-11ec-9d19-005056b02673-3-957e-8355-f43c",
     "previous": "52021940-adca-11ec-9d19-005056b02673-3-887d-d4a0-3298"
    }
   },
   "source": [
    "### mdx VM作成に必要なパラメータ確認\n",
    "\n",
    "- プロジェクトID\n",
    "- ネットワークセグメントID"
   ]
  },
  {
   "cell_type": "code",
   "execution_count": null,
   "metadata": {
    "lc_cell_meme": {
     "current": "52021bca-adca-11ec-9d19-005056b02673-3-957e-8355-f43c",
     "next": "998b7aa4-adca-11ec-9d19-005056b02673-3-9f16-d6c4-fc01",
     "previous": "52021b52-adca-11ec-9d19-005056b02673-3-863b-18db-4ee9"
    },
    "lc_wrapper": {}
   },
   "outputs": [],
   "source": [
    "projects = mdx.get_assigned_projects()\n",
    "projects"
   ]
  },
  {
   "cell_type": "code",
   "execution_count": null,
   "metadata": {
    "lc_cell_meme": {
     "current": "998b7aa4-adca-11ec-9d19-005056b02673-3-9f16-d6c4-fc01",
     "next": "998b7e14-adca-11ec-9d19-005056b02673-3-01b5-a545-2549",
     "previous": "52021bca-adca-11ec-9d19-005056b02673-3-957e-8355-f43c"
    },
    "lc_wrapper": {}
   },
   "outputs": [],
   "source": [
    "# mdxのプロジェクトのIDを取得 (先頭ID)\n",
    "project_id = projects[0][\"projects\"][0][\"uuid\"]\n",
    "project_id"
   ]
  },
  {
   "cell_type": "code",
   "execution_count": null,
   "metadata": {
    "lc_cell_meme": {
     "current": "998b7e14-adca-11ec-9d19-005056b02673-3-01b5-a545-2549",
     "next": "998b812a-adca-11ec-9d19-005056b02673-3-3e8b-24ef-7ab5",
     "previous": "998b7aa4-adca-11ec-9d19-005056b02673-3-9f16-d6c4-fc01"
    },
    "lc_wrapper": {}
   },
   "outputs": [],
   "source": [
    "# mdxの操作を行うプロジェクトを設定\n",
    "mdx.set_current_project_id(project_id)"
   ]
  },
  {
   "cell_type": "code",
   "execution_count": null,
   "metadata": {
    "lc_cell_meme": {
     "current": "998b812a-adca-11ec-9d19-005056b02673-3-3e8b-24ef-7ab5",
     "next": "998b7fc2-adca-11ec-9d19-005056b02673-3-6288-5054-c1db",
     "previous": "998b7e14-adca-11ec-9d19-005056b02673-3-01b5-a545-2549"
    },
    "lc_wrapper": {}
   },
   "outputs": [],
   "source": [
    "# mdxのプロジェクトに割り当てられたネットワークのうち、先頭のネットワークセグメントのidを取得\n",
    "segment_id = mdx.get_segments()[0][\"uuid\"]\n",
    "segment_id"
   ]
  },
  {
   "cell_type": "code",
   "execution_count": null,
   "metadata": {
    "lc_cell_meme": {
     "current": "998b7fc2-adca-11ec-9d19-005056b02673-3-6288-5054-c1db",
     "next": "998b827e-adca-11ec-9d19-005056b02673-3-8505-8402-e1a7",
     "previous": "998b812a-adca-11ec-9d19-005056b02673-3-3e8b-24ef-7ab5"
    },
    "lc_wrapper": {}
   },
   "outputs": [],
   "source": [
    "# すでに稼働中のmdx VM一覧を取得し表示する\n",
    "import json\n",
    "lst = mdx.get_vm_list()\n",
    "print(json.dumps(lst, indent=2))"
   ]
  },
  {
   "cell_type": "markdown",
   "metadata": {
    "lc_cell_meme": {
     "current": "998b827e-adca-11ec-9d19-005056b02673-3-8505-8402-e1a7",
     "next": "c96a27a6-a69b-11ec-8db3-005056b02367-5-a794-ee5b-948a-3208-40ea",
     "previous": "998b7fc2-adca-11ec-9d19-005056b02673-3-6288-5054-c1db"
    }
   },
   "source": [
    "### mdx VMデプロイ\n",
    "\n",
    "- VM起動後、SSH接続可能な IPv4 アドレスの割り当てに5分程度を要する。"
   ]
  },
  {
   "cell_type": "code",
   "execution_count": null,
   "metadata": {
    "lc_cell_meme": {
     "current": "c96a27a6-a69b-11ec-8db3-005056b02367-5-a794-ee5b-948a-3208-40ea",
     "next": "b687cc5e-abc5-11ec-a2a8-005056b02367-5-6a69-bb3c-21cd-a9c5-a49d",
     "previous": "998b827e-adca-11ec-9d19-005056b02673-3-8505-8402-e1a7"
    },
    "lc_wrapper": {}
   },
   "outputs": [],
   "source": [
    "# 仮想マシンテンプレート (推奨版 東京大学制作、20220412-2043版)\n",
    "DEFAULT_CATALOG = \"16a41081-a1cf-428e-90d0-a147b3aa6fc2\"\n",
    "DEFAULT_TEMPLATE_NAME = \"UT-20220412-2043-ubuntu-2004-server\"\n",
    "\n",
    "# ssh公開鍵\n",
    "import os\n",
    "with open(os.path.expanduser(ssh_public_key_path)) as f:\n",
    "    ssh_shared_key = f.read()\n",
    "\n",
    "# VMスペック指定\n",
    "mdx_spec = dict(\n",
    "    catalog=DEFAULT_CATALOG,\n",
    "    template_name=DEFAULT_TEMPLATE_NAME,\n",
    "    pack_num=16,\n",
    "    pack_type=\"cpu\",\n",
    "    disk_size=80,\n",
    "    gpu=\"0\",\n",
    "\n",
    "    network_adapters=[\n",
    "        dict(\n",
    "            adapter_number=1,\n",
    "            segment=segment_id\n",
    "        )\n",
    "    ],\n",
    "    shared_key=ssh_shared_key,\n",
    "\n",
    "    # VCPのmdx拡張で以下は固定値とする\n",
    "    # os_type=\"Linux\",\n",
    "    # power_on=True,\n",
    "    # project=project_id,\n",
    "    storage_network=\"portgroup\",\n",
    ")\n",
    "info = mdx.deploy_vm(vm_name, mdx_spec)\n",
    "\n",
    "# mdx VMのdeployが完了\n",
    "print(json.dumps(info, indent=2))"
   ]
  },
  {
   "cell_type": "code",
   "execution_count": null,
   "metadata": {
    "lc_cell_meme": {
     "current": "b687cc5e-abc5-11ec-a2a8-005056b02367-5-6a69-bb3c-21cd-a9c5-a49d",
     "next": "8ef116da-abc7-11ec-a2a8-005056b02367-5-dd9a-4b31-fc58-3627-8587",
     "previous": "c96a27a6-a69b-11ec-8db3-005056b02367-5-a794-ee5b-948a-3208-40ea"
    },
    "lc_wrapper": {}
   },
   "outputs": [],
   "source": [
    "# 確保したmdx VMのプライベートIPv4アドレスを取得\n",
    "host_ip_address = info[\"service_networks\"][0][\"ipv4_address\"][0]\n",
    "host_ip_address"
   ]
  },
  {
   "cell_type": "markdown",
   "metadata": {
    "lc_cell_meme": {
     "current": "8ef116da-abc7-11ec-a2a8-005056b02367-5-dd9a-4b31-fc58-3627-8587",
     "next": "704c6e86-adcb-11ec-9d19-005056b02673-3-f468-c889-fef1",
     "previous": "b687cc5e-abc5-11ec-a2a8-005056b02367-5-6a69-bb3c-21cd-a9c5-a49d"
    }
   },
   "source": [
    "## VCP既存サーバ (SSH) モード セットアップ\n",
    "\n",
    "1. mdx VMへの疎通確認\n",
    "2. VM初期パスワード設定\n",
    "3. 既存サーバ(SSH) モード セットアップスクリプトをmdx VMへのコピー\n",
    "4. 既存サーバ(SSH) モード セットアップ実行\n",
    "5. Docker のインストール確認"
   ]
  },
  {
   "cell_type": "markdown",
   "metadata": {
    "lc_cell_meme": {
     "current": "704c6e86-adcb-11ec-9d19-005056b02673-3-f468-c889-fef1",
     "next": "109ccc2a-abcc-11ec-a2a8-005056b02367-5-7dd5-353c-4022-8cec-6487",
     "previous": "8ef116da-abc7-11ec-a2a8-005056b02367-5-dd9a-4b31-fc58-3627-8587"
    }
   },
   "source": [
    "### mdx VMへの疎通確認"
   ]
  },
  {
   "cell_type": "code",
   "execution_count": null,
   "metadata": {
    "lc_cell_meme": {
     "current": "109ccc2a-abcc-11ec-a2a8-005056b02367-5-7dd5-353c-4022-8cec-6487",
     "next": "704c720a-adcb-11ec-9d19-005056b02673-3-d952-2943-e353",
     "previous": "704c6e86-adcb-11ec-9d19-005056b02673-3-f468-c889-fef1"
    },
    "lc_wrapper": {},
    "scrolled": false
   },
   "outputs": [],
   "source": [
    "!ping -c 3 {host_ip_address}"
   ]
  },
  {
   "cell_type": "markdown",
   "metadata": {
    "lc_cell_meme": {
     "current": "704c720a-adcb-11ec-9d19-005056b02673-3-d952-2943-e353",
     "next": "8ef11aea-abc7-11ec-a2a8-005056b02367-5-f0bc-6b5e-ca4f-4dc6-2f3b",
     "previous": "109ccc2a-abcc-11ec-a2a8-005056b02367-5-7dd5-353c-4022-8cec-6487"
    }
   },
   "source": [
    "### VM初期パスワード設定"
   ]
  },
  {
   "cell_type": "code",
   "execution_count": null,
   "metadata": {
    "lc_cell_meme": {
     "current": "8ef11aea-abc7-11ec-a2a8-005056b02367-5-f0bc-6b5e-ca4f-4dc6-2f3b",
     "next": "b7d48e8c-adcb-11ec-9d19-005056b02673-3-0a01-87fe-ce1b",
     "previous": "704c720a-adcb-11ec-9d19-005056b02673-3-d952-2943-e353"
    },
    "lc_wrapper": {},
    "scrolled": false
   },
   "outputs": [],
   "source": [
    "!./scripts/init_mdx_passwd.exp {ssh_user_name} {host_ip_address} {ssh_private_key_path} {mdx_user_password}"
   ]
  },
  {
   "cell_type": "markdown",
   "metadata": {
    "lc_cell_meme": {
     "current": "b7d48e8c-adcb-11ec-9d19-005056b02673-3-0a01-87fe-ce1b",
     "next": "c748b6bc-ac05-11ec-a2a8-005056b02367-5-4845-9479-e450-3471-c702",
     "previous": "8ef11aea-abc7-11ec-a2a8-005056b02367-5-f0bc-6b5e-ca4f-4dc6-2f3b"
    }
   },
   "source": [
    "### 既存サーバ(SSH) モード セットアップスクリプトをmdx VMへのコピー"
   ]
  },
  {
   "cell_type": "code",
   "execution_count": null,
   "metadata": {
    "lc_cell_meme": {
     "current": "c748b6bc-ac05-11ec-a2a8-005056b02367-5-4845-9479-e450-3471-c702",
     "next": "408d5876-ac05-11ec-a2a8-005056b02367-5-ff94-c6ca-1092-25b4-a09e",
     "previous": "b7d48e8c-adcb-11ec-9d19-005056b02673-3-0a01-87fe-ce1b"
    },
    "lc_wrapper": {}
   },
   "outputs": [],
   "source": [
    "# notebookからmdx VMへのsshコマンドオプション\n",
    "ssh_opts = f\" -i {ssh_private_key_path} -o StrictHostKeyChecking=no -o UserKnownHostsFile=/dev/null\""
   ]
  },
  {
   "cell_type": "code",
   "execution_count": null,
   "metadata": {
    "lc_cell_meme": {
     "current": "408d5876-ac05-11ec-a2a8-005056b02367-5-ff94-c6ca-1092-25b4-a09e",
     "next": "b7d49206-adcb-11ec-9d19-005056b02673-3-8fe4-2486-75b9",
     "previous": "c748b6bc-ac05-11ec-a2a8-005056b02367-5-4845-9479-e450-3471-c702"
    },
    "lc_wrapper": {},
    "scrolled": true
   },
   "outputs": [],
   "source": [
    "!scp -i tmp/id_rsa -o StrictHostKeyChecking=no -o UserKnownHostsFile=/dev/null scripts/init_mdx_node.sh {ssh_user_name}@{host_ip_address}:"
   ]
  },
  {
   "cell_type": "markdown",
   "metadata": {
    "lc_cell_meme": {
     "current": "b7d49206-adcb-11ec-9d19-005056b02673-3-8fe4-2486-75b9",
     "next": "4ee67ce2-abcc-11ec-a2a8-005056b02367-5-68be-d01b-c181-e41d-46c2",
     "previous": "408d5876-ac05-11ec-a2a8-005056b02367-5-ff94-c6ca-1092-25b4-a09e"
    }
   },
   "source": [
    "### 既存サーバ(SSH) モード セットアップ実行\n",
    "\n",
    "- docker-ce インストール\n",
    "- sshd_config 設定変更: Port 20022 "
   ]
  },
  {
   "cell_type": "code",
   "execution_count": null,
   "metadata": {
    "lc_cell_meme": {
     "current": "4ee67ce2-abcc-11ec-a2a8-005056b02367-5-68be-d01b-c181-e41d-46c2",
     "next": "46e9d884-adcc-11ec-9d19-005056b02673-3-59ac-89f4-2953",
     "previous": "b7d49206-adcb-11ec-9d19-005056b02673-3-8fe4-2486-75b9"
    },
    "lc_wrapper": {},
    "scrolled": true
   },
   "outputs": [],
   "source": [
    "!ssh {ssh_opts} {ssh_user_name}@{host_ip_address} ./init_mdx_node.sh"
   ]
  },
  {
   "cell_type": "markdown",
   "metadata": {
    "lc_cell_meme": {
     "current": "46e9d884-adcc-11ec-9d19-005056b02673-3-59ac-89f4-2953",
     "next": "51c24eca-ac06-11ec-a2a8-005056b02367-5-9e06-e96a-617e-7f01-1dfc",
     "previous": "4ee67ce2-abcc-11ec-a2a8-005056b02367-5-68be-d01b-c181-e41d-46c2"
    }
   },
   "source": [
    "### Docker のインストール確認"
   ]
  },
  {
   "cell_type": "code",
   "execution_count": null,
   "metadata": {
    "lc_cell_meme": {
     "current": "51c24eca-ac06-11ec-a2a8-005056b02367-5-9e06-e96a-617e-7f01-1dfc",
     "next": "849cce5e-ac0d-11ec-a2a8-005056b02367-5-9119-a7c1-4e7c-85ce-1669",
     "previous": "46e9d884-adcc-11ec-9d19-005056b02673-3-59ac-89f4-2953"
    },
    "lc_wrapper": {},
    "scrolled": true
   },
   "outputs": [],
   "source": [
    "!ssh {ssh_opts} -p 20022 {ssh_user_name}@{host_ip_address} sudo docker ps"
   ]
  },
  {
   "cell_type": "markdown",
   "metadata": {
    "lc_cell_meme": {
     "current": "849cce5e-ac0d-11ec-a2a8-005056b02367-5-9119-a7c1-4e7c-85ce-1669",
     "next": "ac82251a-adcd-11ec-9d19-005056b02673-3-b739-c273-1122",
     "previous": "51c24eca-ac06-11ec-a2a8-005056b02367-5-9e06-e96a-617e-7f01-1dfc"
    }
   },
   "source": [
    "## VCP SDKによるVCノード起動確認\n",
    "\n",
    "1. VCP SDK 初期化\n",
    "2. Portable VCコントローラ公開鍵設定\n",
    "3. VCノード起動パラメータ設定\n",
    "4. VCノード起動\n",
    "5. Applicationコンテナの起動確認"
   ]
  },
  {
   "cell_type": "markdown",
   "metadata": {
    "lc_cell_meme": {
     "current": "ac82251a-adcd-11ec-9d19-005056b02673-3-b739-c273-1122",
     "next": "a1b40750-adcf-11ec-9d19-005056b02673-3-655d-c912-0a90",
     "previous": "849cce5e-ac0d-11ec-a2a8-005056b02367-5-9119-a7c1-4e7c-85ce-1669"
    }
   },
   "source": [
    "### VCP SDK 初期化"
   ]
  },
  {
   "cell_type": "code",
   "execution_count": null,
   "metadata": {
    "lc_cell_meme": {
     "current": "a1b40750-adcf-11ec-9d19-005056b02673-3-655d-c912-0a90",
     "next": "99ffd5de-ac0d-11ec-a2a8-005056b02367-4-ba01-175d-ee95-736b",
     "previous": "ac82251a-adcd-11ec-9d19-005056b02673-3-b739-c273-1122"
    },
    "lc_wrapper": {}
   },
   "outputs": [],
   "source": [
    "# VCP REST API アクセストークンの入力\n",
    "from getpass import getpass\n",
    "vcc_access_token = getpass()"
   ]
  },
  {
   "cell_type": "code",
   "execution_count": null,
   "metadata": {
    "lc_cell_meme": {
     "current": "99ffd5de-ac0d-11ec-a2a8-005056b02367-4-ba01-175d-ee95-736b",
     "next": "ac822a2e-adcd-11ec-9d19-005056b02673-3-e405-f311-581e",
     "previous": "a1b40750-adcf-11ec-9d19-005056b02673-3-655d-c912-0a90"
    },
    "lc_wrapper": {},
    "scrolled": true
   },
   "outputs": [],
   "source": [
    "from vcpsdk.vcpsdk import VcpSDK\n",
    "sdk = VcpSDK(vcc_access_token)\n",
    "\n",
    "# VCP SDK バージョン確認\n",
    "sdk.version()"
   ]
  },
  {
   "cell_type": "markdown",
   "metadata": {
    "lc_cell_meme": {
     "current": "ac822a2e-adcd-11ec-9d19-005056b02673-3-e405-f311-581e",
     "next": "91c13c2c-ac13-11ec-a2a8-005056b02367-4-065c-0f95-d14a-9fad",
     "previous": "99ffd5de-ac0d-11ec-a2a8-005056b02367-4-ba01-175d-ee95-736b"
    }
   },
   "source": [
    "### VCコントローラ公開鍵設定\n",
    "\n",
    "VCコントローラがmdx VMを既存サーバ(SSH) モードで制御するための SSH 公開鍵を mdx VM に設定する。"
   ]
  },
  {
   "cell_type": "code",
   "execution_count": null,
   "metadata": {
    "lc_cell_meme": {
     "current": "91c13c2c-ac13-11ec-a2a8-005056b02367-4-065c-0f95-d14a-9fad",
     "next": "071ccfa4-ac14-11ec-a2a8-005056b02367-4-488f-cbd0-54c5-aa6a",
     "previous": "ac822a2e-adcd-11ec-9d19-005056b02673-3-e405-f311-581e"
    },
    "lc_wrapper": {}
   },
   "outputs": [],
   "source": [
    "# VCコントローラが既存サーバを操作するときに使うssh公開鍵を取得する\n",
    "vcc_ssh_pubkey = sdk.get_publickey()"
   ]
  },
  {
   "cell_type": "code",
   "execution_count": null,
   "metadata": {
    "lc_cell_meme": {
     "current": "071ccfa4-ac14-11ec-a2a8-005056b02367-4-488f-cbd0-54c5-aa6a",
     "next": "3b9566d6-adce-11ec-9d19-005056b02673-3-a29b-6f13-97d5",
     "previous": "91c13c2c-ac13-11ec-a2a8-005056b02367-4-065c-0f95-d14a-9fad"
    },
    "lc_wrapper": {}
   },
   "outputs": [],
   "source": [
    "!echo \"{vcc_ssh_pubkey}\" | (ssh {ssh_opts} -p20022 {ssh_user_name}@{host_ip_address} \"cat >> ~/.ssh/authorized_keys\")"
   ]
  },
  {
   "cell_type": "markdown",
   "metadata": {
    "lc_cell_meme": {
     "current": "3b9566d6-adce-11ec-9d19-005056b02673-3-a29b-6f13-97d5",
     "next": "b79d7be4-ac14-11ec-a2a8-005056b02367-4-8293-f24d-154a-2f45",
     "previous": "071ccfa4-ac14-11ec-a2a8-005056b02367-4-488f-cbd0-54c5-aa6a"
    }
   },
   "source": [
    "### VCノード起動パラメータ設定\n",
    "\n",
    "- Unit Group 作成\n",
    "- Baseコンテナへのsshログイン用鍵ペア作成\n",
    "- Unit の spec 指定"
   ]
  },
  {
   "cell_type": "code",
   "execution_count": null,
   "metadata": {
    "lc_cell_meme": {
     "current": "b79d7be4-ac14-11ec-a2a8-005056b02367-4-8293-f24d-154a-2f45",
     "next": "c5641878-ac14-11ec-a2a8-005056b02367-4-2ae1-cd9f-7cfb-65ba",
     "previous": "3b9566d6-adce-11ec-9d19-005056b02673-3-a29b-6f13-97d5"
    },
    "lc_wrapper": {},
    "scrolled": true
   },
   "outputs": [],
   "source": [
    "my_ugroup_name = \"mdx\"\n",
    "ugroup = sdk.create_ugroup(my_ugroup_name)"
   ]
  },
  {
   "cell_type": "code",
   "execution_count": null,
   "metadata": {
    "lc_cell_meme": {
     "current": "c5641878-ac14-11ec-a2a8-005056b02367-4-2ae1-cd9f-7cfb-65ba",
     "next": "24b53ad6-ac16-11ec-a2a8-005056b02367-4-900e-90d7-4621-c30c",
     "previous": "b79d7be4-ac14-11ec-a2a8-005056b02367-4-8293-f24d-154a-2f45"
    },
    "lc_wrapper": {}
   },
   "outputs": [],
   "source": [
    "print(ugroup)"
   ]
  },
  {
   "cell_type": "code",
   "execution_count": null,
   "metadata": {
    "lc_cell_meme": {
     "current": "24b53ad6-ac16-11ec-a2a8-005056b02367-4-900e-90d7-4621-c30c",
     "next": "7afcfad4-ac14-11ec-a2a8-005056b02367-4-3fd0-7b67-6651-c10d",
     "previous": "c5641878-ac14-11ec-a2a8-005056b02367-4-2ae1-cd9f-7cfb-65ba"
    },
    "lc_wrapper": {}
   },
   "outputs": [],
   "source": [
    "# baseコンテナへのsshログインの鍵を作成\n",
    "if not os.path.exists(\"base_tmp/\"):\n",
    "    !mkdir base_tmp\n",
    "    !ssh-keygen -t rsa -b 2048 -N \"\" -f base_tmp/id_rsa_base"
   ]
  },
  {
   "cell_type": "code",
   "execution_count": null,
   "metadata": {
    "lc_cell_meme": {
     "current": "7afcfad4-ac14-11ec-a2a8-005056b02367-4-3fd0-7b67-6651-c10d",
     "next": "83156074-adce-11ec-9d19-005056b02673-3-d545-0fbd-28b4",
     "previous": "24b53ad6-ac16-11ec-a2a8-005056b02367-4-900e-90d7-4621-c30c"
    },
    "lc_wrapper": {}
   },
   "outputs": [],
   "source": [
    "spec = sdk.get_spec(\"onpremises\", \"default\")\n",
    "spec.ip_addresses = [host_ip_address]\n",
    "spec.user_name = ssh_user_name\n",
    "spec.set_ssh_pubkey(\"base_tmp/id_rsa_base.pub\")"
   ]
  },
  {
   "cell_type": "markdown",
   "metadata": {
    "lc_cell_meme": {
     "current": "83156074-adce-11ec-9d19-005056b02673-3-d545-0fbd-28b4",
     "next": "4ea35e60-ac14-11ec-a2a8-005056b02367-4-0451-f48c-28b5-46f8",
     "previous": "7afcfad4-ac14-11ec-a2a8-005056b02367-4-3fd0-7b67-6651-c10d"
    }
   },
   "source": [
    "### VCノード起動"
   ]
  },
  {
   "cell_type": "code",
   "execution_count": null,
   "metadata": {
    "lc_cell_meme": {
     "current": "4ea35e60-ac14-11ec-a2a8-005056b02367-4-0451-f48c-28b5-46f8",
     "next": "b79d7ebe-ac14-11ec-a2a8-005056b02367-4-39d2-b746-841d-2f77",
     "previous": "83156074-adce-11ec-9d19-005056b02673-3-d545-0fbd-28b4"
    },
    "lc_wrapper": {}
   },
   "outputs": [],
   "source": [
    "unit_name = \"mdx_server\"\n",
    "unit = ugroup.create_unit(unit_name, spec, wait_for=True, verbose=0)"
   ]
  },
  {
   "cell_type": "code",
   "execution_count": null,
   "metadata": {
    "lc_cell_meme": {
     "current": "b79d7ebe-ac14-11ec-a2a8-005056b02367-4-39d2-b746-841d-2f77",
     "next": "d5ee54ce-adcc-11ec-9d19-005056b02673-3-54e5-2577-cb64",
     "previous": "4ea35e60-ac14-11ec-a2a8-005056b02367-4-0451-f48c-28b5-46f8"
    },
    "lc_wrapper": {},
    "scrolled": true
   },
   "outputs": [],
   "source": [
    "ugroup.df_nodes()"
   ]
  },
  {
   "cell_type": "markdown",
   "metadata": {
    "lc_cell_meme": {
     "current": "d5ee54ce-adcc-11ec-9d19-005056b02673-3-54e5-2577-cb64",
     "next": "8450f11a-ac16-11ec-a2a8-005056b02367-4-b7e7-6335-0a3b-b2c3",
     "previous": "b79d7ebe-ac14-11ec-a2a8-005056b02367-4-39d2-b746-841d-2f77"
    }
   },
   "source": [
    "### Applicationコンテナの起動確認\n",
    "\n",
    "`hello-world` コンテナを実行する。"
   ]
  },
  {
   "cell_type": "code",
   "execution_count": null,
   "metadata": {
    "lc_cell_meme": {
     "current": "8450f11a-ac16-11ec-a2a8-005056b02367-4-b7e7-6335-0a3b-b2c3",
     "next": "075e14e6-add1-11ec-9d19-005056b02673-3-9f9a-194b-3ef0",
     "previous": "d5ee54ce-adcc-11ec-9d19-005056b02673-3-54e5-2577-cb64"
    },
    "lc_wrapper": {}
   },
   "outputs": [],
   "source": [
    "!ssh -i base_tmp/id_rsa_base -o StrictHostKeyChecking=no -o UserKnownHostsFile=/dev/null root@{host_ip_address} /usr/local/bin/docker run hello-world"
   ]
  },
  {
   "cell_type": "markdown",
   "metadata": {
    "lc_cell_meme": {
     "current": "075e14e6-add1-11ec-9d19-005056b02673-3-9f9a-194b-3ef0",
     "next": "2536c0fc-ac15-11ec-a2a8-005056b02367-4-fa6e-a81c-8373-27b4",
     "previous": "8450f11a-ac16-11ec-a2a8-005056b02367-4-b7e7-6335-0a3b-b2c3"
    }
   },
   "source": [
    "## VCノード削除\n",
    "\n",
    "ここでは VC ノードとしての動作確認を行った Unit Group の cleanup を実行するが、\n",
    "VCP既存サーバ(SSH) モードをセットアップ済みの mdx VM は VC ノードとして再利用可能である。"
   ]
  },
  {
   "cell_type": "code",
   "execution_count": null,
   "metadata": {
    "lc_cell_meme": {
     "current": "2536c0fc-ac15-11ec-a2a8-005056b02367-4-fa6e-a81c-8373-27b4",
     "next": "e93a8eaa-adcf-11ec-9d19-005056b02673-3-6ab0-5679-b44b",
     "previous": "075e14e6-add1-11ec-9d19-005056b02673-3-9f9a-194b-3ef0"
    },
    "lc_wrapper": {},
    "scrolled": true
   },
   "outputs": [],
   "source": [
    "ugroup.cleanup()"
   ]
  },
  {
   "cell_type": "code",
   "execution_count": null,
   "metadata": {
    "lc_cell_meme": {
     "current": "e93a8eaa-adcf-11ec-9d19-005056b02673-3-6ab0-5679-b44b",
     "next": null,
     "previous": "2536c0fc-ac15-11ec-a2a8-005056b02367-4-fa6e-a81c-8373-27b4"
    },
    "lc_wrapper": {}
   },
   "outputs": [],
   "source": [
    "sdk.df_ugroups()"
   ]
  }
 ],
 "metadata": {
  "kernelspec": {
   "display_name": "Python 3",
   "language": "python",
   "name": "python3"
  },
  "language_info": {
   "file_extension": ".py",
   "mimetype": "text/x-python",
   "name": "python",
   "nbconvert_exporter": "python",
   "pygments_lexer": "ipython3",
   "version": "3.8.6"
  },
  "toc": {
   "base_numbering": 1,
   "nav_menu": {},
   "number_sections": true,
   "sideBar": true,
   "skip_h1_title": false,
   "title_cell": "Table of Contents",
   "title_sidebar": "Contents",
   "toc_cell": false,
   "toc_position": {},
   "toc_section_display": true,
   "toc_window_display": true
  }
 },
 "nbformat": 4,
 "nbformat_minor": 4
}
