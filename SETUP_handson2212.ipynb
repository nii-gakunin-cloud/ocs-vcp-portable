{
 "cells": [
  {
   "cell_type": "markdown",
   "metadata": {
    "lc_cell_meme": {
     "current": "d1c974a8-7057-11e7-bb01-06f0b50c8aa0-8-3f28-ed83-1453-4915-a022-8ec2-c911-1348",
     "next": "d1c97656-7057-11e7-bb01-06f0b50c8aa0-8-b0e8-5dc9-0580-4be8-554a-d688-496e-749f",
     "previous": null
    }
   },
   "source": [
    "# VCP SDK のセットアップ\n",
    "\n",
    "この Notebook では VCP SDK を利用するための初期設定と、アプリケーション・テンプレート等のインストールを行います。"
   ]
  },
  {
   "cell_type": "markdown",
   "metadata": {
    "lc_cell_meme": {
     "current": "d1c97656-7057-11e7-bb01-06f0b50c8aa0-8-b0e8-5dc9-0580-4be8-554a-d688-496e-749f",
     "next": "e1e0e9a4-7136-11e7-bb01-06f0b50c8aa0-8-3da5-f23b-7a1d-ab6e-9bf6-07be-6062-f998",
     "previous": "d1c974a8-7057-11e7-bb01-06f0b50c8aa0-8-3f28-ed83-1453-4915-a022-8ec2-c911-1348"
    }
   },
   "source": [
    "## 設定ファイルの準備\n",
    "\n",
    "VCP SDK を利用する上で必要となる設定ファイルを作成します。"
   ]
  },
  {
   "cell_type": "markdown",
   "metadata": {
    "lc_cell_meme": {
     "current": "e1e0e9a4-7136-11e7-bb01-06f0b50c8aa0-8-3da5-f23b-7a1d-ab6e-9bf6-07be-6062-f998",
     "next": "e1e0ec4c-7136-11e7-bb01-06f0b50c8aa0-8-3a94-96ca-de85-bbb4-713b-a353-9f3f-377a",
     "previous": "d1c97656-7057-11e7-bb01-06f0b50c8aa0-8-b0e8-5dc9-0580-4be8-554a-d688-496e-749f"
    }
   },
   "source": [
    "### `vcp_config.yml` ファイルの編集"
   ]
  },
  {
   "cell_type": "markdown",
   "metadata": {
    "lc_cell_meme": {
     "current": "e1e0ec4c-7136-11e7-bb01-06f0b50c8aa0-8-3a94-96ca-de85-bbb4-713b-a353-9f3f-377a",
     "next": "bc13177c-22ae-11e8-bf0d-0242ac110002-8-1894-0ec6-0cc5-c8fa-8abf-c253-dd99-1387",
     "previous": "e1e0e9a4-7136-11e7-bb01-06f0b50c8aa0-8-3da5-f23b-7a1d-ab6e-9bf6-07be-6062-f998"
    }
   },
   "source": [
    "以下のセルを実行すると、VCP SDK 設定ファイル `vcp_config.yml` を編集するためのリンクボタンが表示されます。\n",
    "\n",
    "```\n",
    "vcc:\n",
    "    host: VCコントローラのIPアドレス (VCPポータブル版を同一ホストに構築した場合は localhost を指定)\n",
    "    name: VCコントローラの名前 (VCコントローラ上のログ出力に使用)\n",
    "```"
   ]
  },
  {
   "cell_type": "code",
   "execution_count": null,
   "metadata": {
    "lc_cell_meme": {
     "current": "bc13177c-22ae-11e8-bf0d-0242ac110002-8-1894-0ec6-0cc5-c8fa-8abf-c253-dd99-1387",
     "next": "2d0835cc-61aa-11ed-9ad3-9ca3ba290491",
     "previous": "e1e0ec4c-7136-11e7-bb01-06f0b50c8aa0-8-3a94-96ca-de85-bbb4-713b-a353-9f3f-377a"
    },
    "lc_wrapper": {}
   },
   "outputs": [],
   "source": [
    "import os\n",
    "\n",
    "config_dir = \"{}/vcpsdk/vcpsdk/config\".format(os.environ.get(\"HOME\"))\n",
    "!mkdir -p vcp_config\n",
    "!cp $config_dir/vcp_flavor.yml vcp_config/\n",
    "!cp $config_dir/sample-vault-vcp_config.yml vcp_config/vcp_config.yml\n",
    "\n",
    "curdir = os.getcwd().replace('/notebooks/notebook/', '')\n",
    "config_url = \"/{}/edit/vcp_config/vcp_config.yml\".format(os.environ['SUBDIR'])\n",
    "from IPython.core.display import HTML\n",
    "\n",
    "style= \"text-decoration: none;\\\n",
    "padding: 4px 8px;border: solid 2px #ddf; color: #fff;\\\n",
    "font-size: 20px;\\\n",
    "font-weight: bold;\\\n",
    "background-color: rgb(100, 149, 237);\"\n",
    "HTML('<a style=\"{}\" target=\"new\" href=\"{}\">vcp_config.ymlを編集</a>'.\n",
    "     format(style, config_url))"
   ]
  },
  {
   "cell_type": "markdown",
   "metadata": {
    "lc_cell_meme": {
     "current": "2d0835cc-61aa-11ed-9ad3-9ca3ba290491",
     "next": "2d0836e4-61aa-11ed-9ad3-9ca3ba290491",
     "previous": "bc13177c-22ae-11e8-bf0d-0242ac110002-8-1894-0ec6-0cc5-c8fa-8abf-c253-dd99-1387"
    }
   },
   "source": [
    "## クラウド認証情報の書き込み用 Notebook の起動\n",
    "\n",
    "利用先クラウドプロバイダーの認証情報を Vault サーバのストレージに書き込む作業を簡便に行うための Notebook を起動します。\n",
    "\n",
    "以下のセルを実行すると、Notebook を開くボタンが表示されます。"
   ]
  },
  {
   "cell_type": "code",
   "execution_count": null,
   "metadata": {
    "lc_cell_meme": {
     "current": "2d0836e4-61aa-11ed-9ad3-9ca3ba290491",
     "next": "bd0bead0-8856-11eb-9b27-0242ac110005-7-9466-1875-34c8-8bf7-b7e5-b765-12e8",
     "previous": "2d0835cc-61aa-11ed-9ad3-9ca3ba290491"
    }
   },
   "outputs": [],
   "source": [
    "!cp -r $HOME/vcp/vcpsdk/vault/credential_setup.ipynb vcp_config\n",
    "\n",
    "config_url = \"/{}/notebooks/vcp_config/credential_setup.ipynb\".format(os.environ['SUBDIR'])\n",
    "style= \"text-decoration: none;\\\n",
    "padding: 4px 8px;border: solid 2px #ddf; color: #fff;\\\n",
    "font-size: 20px;\\\n",
    "font-weight: bold;\\\n",
    "background-color: rgb(100, 149, 237);\"\n",
    "HTML('<a style=\"{}\" target=\"new\" href=\"{}\">クレデンシャル情報の書き込み用Notebookを開く</a>'.\n",
    "     format(style, config_url))"
   ]
  },
  {
   "cell_type": "markdown",
   "metadata": {
    "lc_cell_meme": {
     "current": "bd0bead0-8856-11eb-9b27-0242ac110005-7-9466-1875-34c8-8bf7-b7e5-b765-12e8",
     "next": "bd0beb52-8856-11eb-9b27-0242ac110005-7-ddcb-ba3a-2642-8a99-f52f-35b2-fd2e",
     "previous": "2d0836e4-61aa-11ed-9ad3-9ca3ba290491"
    }
   },
   "source": [
    "# ハンズオン・コンテンツの準備\n",
    "\n",
    "OCS ハンズオンコンテンツのディレクトリとファイルを Jupyter Notebook 環境に展開します。"
   ]
  },
  {
   "cell_type": "code",
   "execution_count": null,
   "metadata": {
    "lc_cell_meme": {
     "current": "bd0beb52-8856-11eb-9b27-0242ac110005-7-ddcb-ba3a-2642-8a99-f52f-35b2-fd2e",
     "next": "88895c78-8637-11eb-9b27-0242ac110005-8-c059-edb9-bb3d-c492-96fb-3838-2399-17c5",
     "previous": "bd0bead0-8856-11eb-9b27-0242ac110005-7-9466-1875-34c8-8bf7-b7e5-b765-12e8"
    },
    "lc_wrapper": {}
   },
   "outputs": [],
   "source": [
    "!git clone https://github.com/nii-gakunin-cloud/handson.git"
   ]
  },
  {
   "cell_type": "markdown",
   "metadata": {
    "lc_cell_meme": {
     "current": "88895c78-8637-11eb-9b27-0242ac110005-8-c059-edb9-bb3d-c492-96fb-3838-2399-17c5",
     "next": "a69c328e-8638-11eb-9b27-0242ac110005-7-a53d-f70b-e63b-121b-c05b-7450-d1cf",
     "previous": "bd0beb52-8856-11eb-9b27-0242ac110005-7-ddcb-ba3a-2642-8a99-f52f-35b2-fd2e"
    }
   },
   "source": [
    "# VCP SDK マニュアルの準備\n",
    "\n",
    "VCP SDK マニュアル最新版のディレクトリとファイルを Jupyter Notebook 環境に展開します。"
   ]
  },
  {
   "cell_type": "code",
   "execution_count": null,
   "metadata": {
    "lc_cell_meme": {
     "current": "a69c328e-8638-11eb-9b27-0242ac110005-7-a53d-f70b-e63b-121b-c05b-7450-d1cf",
     "next": "a69c33a6-8638-11eb-9b27-0242ac110005-8-0080-6b39-6707-b2ac-f794-d829-7d15-e757",
     "previous": "88895c78-8637-11eb-9b27-0242ac110005-8-c059-edb9-bb3d-c492-96fb-3838-2399-17c5"
    },
    "lc_wrapper": {}
   },
   "outputs": [],
   "source": [
    "!cp -r $HOME/vcp/vcpsdk/doc ."
   ]
  },
  {
   "cell_type": "markdown",
   "metadata": {
    "lc_cell_meme": {
     "current": "a69c33a6-8638-11eb-9b27-0242ac110005-8-0080-6b39-6707-b2ac-f794-d829-7d15-e757",
     "next": "bd0be936-8856-11eb-9b27-0242ac110005-7-5cfc-eea0-efcd-866c-6092-b0b2-6d7e",
     "previous": "a69c328e-8638-11eb-9b27-0242ac110005-7-a53d-f70b-e63b-121b-c05b-7450-d1cf"
    }
   },
   "source": [
    "# アプリケーション・テンプレートの準備\n",
    "\n",
    "OCS アプリケーション・テンプレートのディレクトリとファイルを Jupyter Notebook 環境に展開します。"
   ]
  },
  {
   "cell_type": "code",
   "execution_count": null,
   "metadata": {
    "lc_cell_meme": {
     "current": "bd0be936-8856-11eb-9b27-0242ac110005-7-5cfc-eea0-efcd-866c-6092-b0b2-6d7e",
     "next": "bd0bebc0-8856-11eb-9b27-0242ac110005-8-7751-4283-fc29-c61d-c6fb-0d9f-67c2-ca3e",
     "previous": "a69c33a6-8638-11eb-9b27-0242ac110005-8-0080-6b39-6707-b2ac-f794-d829-7d15-e757"
    },
    "lc_wrapper": {},
    "scrolled": true
   },
   "outputs": [],
   "source": [
    "!git clone https://github.com/nii-gakunin-cloud/ocs-templates.git templates"
   ]
  },
  {
   "cell_type": "markdown",
   "metadata": {
    "lc_cell_meme": {
     "current": "bd0bebc0-8856-11eb-9b27-0242ac110005-8-7751-4283-fc29-c61d-c6fb-0d9f-67c2-ca3e",
     "next": "4d1d6a2c-8857-11eb-9b27-0242ac110005-7-5f74-9833-4a0a-21ec-d064-21b3-63e9",
     "previous": "bd0be936-8856-11eb-9b27-0242ac110005-7-5cfc-eea0-efcd-866c-6092-b0b2-6d7e"
    }
   },
   "source": [
    "# VCP SDK テストセットの準備\n",
    "\n",
    "VCP SDK のテストセット、サンプル実装のディレクトリとファイルを Jupyter Notebook 環境に展開します。"
   ]
  },
  {
   "cell_type": "code",
   "execution_count": null,
   "metadata": {
    "lc_cell_meme": {
     "current": "4d1d6a2c-8857-11eb-9b27-0242ac110005-7-5f74-9833-4a0a-21ec-d064-21b3-63e9",
     "next": null,
     "previous": "bd0bebc0-8856-11eb-9b27-0242ac110005-8-7751-4283-fc29-c61d-c6fb-0d9f-67c2-ca3e"
    },
    "lc_wrapper": {}
   },
   "outputs": [],
   "source": [
    "!cp -r $HOME/vcp/vcpsdk/sdk_test $HOME/vcp/vcpsdk/sample ."
   ]
  }
 ],
 "metadata": {
  "kernelspec": {
   "display_name": "Python 3",
   "language": "python",
   "name": "python3"
  },
  "language_info": {
   "file_extension": ".py",
   "mimetype": "text/x-python",
   "name": "python",
   "nbconvert_exporter": "python",
   "pygments_lexer": "ipython3",
   "version": "3.10.4"
  },
  "toc": {
   "base_numbering": 1,
   "nav_menu": {
    "height": "156px",
    "width": "252px"
   },
   "number_sections": true,
   "sideBar": true,
   "skip_h1_title": false,
   "title_cell": "Table of Contents",
   "title_sidebar": "Contents",
   "toc_cell": false,
   "toc_position": {
    "height": "calc(100% - 180px)",
    "left": "10px",
    "top": "150px",
    "width": "235.594px"
   },
   "toc_section_display": "block",
   "toc_window_display": true
  }
 },
 "nbformat": 4,
 "nbformat_minor": 2
}
